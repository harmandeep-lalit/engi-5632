{
 "cells": [
  {
   "cell_type": "markdown",
   "metadata": {},
   "source": [
    "# Introduction\n",
    "--------------\n",
    "\n",
    "This Notebook is the simplest example for how to run one single piece of code in Python for the course. Edit someting.\n"
   ]
  },
  {
   "cell_type": "code",
   "execution_count": 9,
   "metadata": {},
   "outputs": [
    {
     "name": "stdout",
     "output_type": "stream",
     "text": [
      "\n",
      " Hello world! Python is great!The editor of this code is harmandeep\n",
      " singh\n",
      "adding a new line\n",
      " hello in new line\n",
      "\n",
      " kiwi\n",
      "\n",
      " mango\n",
      "\n",
      " apple\n",
      "\n",
      "a is unequal b\n"
     ]
    }
   ],
   "source": [
    "#This is the simplest of the codes for Python\n",
    "\n",
    "txt=\"Python is great!\"\n",
    "txt2=\"\"\"The editor of this code is harmandeep\n",
    " singh\\n\"\"\"\n",
    "txt3=\"adding a new line\"\n",
    "txt4=\"\\n hello in new line\"\n",
    "lst1={'mango','apple','kiwi'}\n",
    "print('\\n Hello world! '+txt+txt2+txt3+txt4)\n",
    "for x in lst1:\n",
    " print('\\n '+x)\n",
    "a=10\n",
    "b=6\n",
    "if(a==b):\n",
    " print('\\n'+\"a equals b\")\n",
    "else:\n",
    " print('\\n'+\"a is unequal b\")\n"
   ]
  },
  {
   "cell_type": "markdown",
   "metadata": {},
   "source": [
    "We just ran our first Python code on a notebook!\n",
    "\n",
    "Test your knowledge:\n",
    "\n",
    "* Execute 3 of the code examples in the tutorial and add some Markdown cells\n"
   ]
  },
  {
   "cell_type": "markdown",
   "metadata": {},
   "source": [
    "I added few more commands to the simple example. \n",
    "1)making a list\n",
    "2)Using for loop to print the elements of list\n",
    "3)Relational operator to compare value of a and b\n",
    "4)Used if else statements to print comparison result"
   ]
  }
 ],
 "metadata": {
  "anaconda-cloud": {},
  "kernelspec": {
   "display_name": "Python 2",
   "language": "python",
   "name": "python2"
  },
  "language_info": {
   "codemirror_mode": {
    "name": "ipython",
    "version": 2
   },
   "file_extension": ".py",
   "mimetype": "text/x-python",
   "name": "python",
   "nbconvert_exporter": "python",
   "pygments_lexer": "ipython2",
   "version": "2.7.13"
  }
 },
 "nbformat": 4,
 "nbformat_minor": 1
}
